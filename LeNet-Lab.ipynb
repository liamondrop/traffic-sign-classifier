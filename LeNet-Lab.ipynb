{
 "cells": [
  {
   "cell_type": "markdown",
   "metadata": {},
   "source": [
    "# LeNet Lab\n",
    "![LeNet Architecture](lenet.png)\n",
    "Source: Yan LeCun"
   ]
  },
  {
   "cell_type": "markdown",
   "metadata": {},
   "source": [
    "## Load Data\n",
    "\n",
    "Load the MNIST data, which comes pre-loaded with TensorFlow.\n",
    "\n",
    "You do not need to modify this section."
   ]
  },
  {
   "cell_type": "code",
   "execution_count": 1,
   "metadata": {
    "collapsed": false
   },
   "outputs": [
    {
     "name": "stdout",
     "output_type": "stream",
     "text": [
      "\n",
      "Image Shape: (32, 32, 3)\n",
      "\n",
      "Training Set:   34799 samples\n",
      "Validation Set: 4410 samples\n",
      "Test Set:       12630 samples\n"
     ]
    }
   ],
   "source": [
    "# Load pickled data\n",
    "import pickle\n",
    "\n",
    "training_file = \"./dataset/train.p\"\n",
    "validation_file= \"./dataset/valid.p\"\n",
    "testing_file = \"./dataset/test.p\"\n",
    "\n",
    "with open(training_file, mode='rb') as f:\n",
    "    train = pickle.load(f)\n",
    "with open(validation_file, mode='rb') as f:\n",
    "    valid = pickle.load(f)\n",
    "with open(testing_file, mode='rb') as f:\n",
    "    test = pickle.load(f)\n",
    "    \n",
    "X_train, y_train = train['features'], train['labels']\n",
    "X_valid, y_valid = valid['features'], valid['labels']\n",
    "X_test, y_test = test['features'], test['labels']\n",
    "\n",
    "assert(len(X_train) == len(y_train))\n",
    "assert(len(X_valid) == len(y_valid))\n",
    "assert(len(X_test) == len(y_test))\n",
    "\n",
    "print()\n",
    "print(\"Image Shape: {}\".format(X_train[0].shape))\n",
    "print()\n",
    "print(\"Training Set:   {} samples\".format(len(X_train)))\n",
    "print(\"Validation Set: {} samples\".format(len(X_valid)))\n",
    "print(\"Test Set:       {} samples\".format(len(X_test)))"
   ]
  },
  {
   "cell_type": "markdown",
   "metadata": {},
   "source": [
    "## Visualize Data\n",
    "\n",
    "View a sample from the dataset.\n",
    "\n",
    "You do not need to modify this section."
   ]
  },
  {
   "cell_type": "code",
   "execution_count": 2,
   "metadata": {
    "collapsed": false
   },
   "outputs": [],
   "source": [
    "import csv\n",
    "sign_labels = {}\n",
    "with open('signnames.csv', mode='r') as infile:\n",
    "    reader = csv.reader(infile)\n",
    "    sign_labels = {key: val for key, val in reader}"
   ]
  },
  {
   "cell_type": "code",
   "execution_count": 3,
   "metadata": {
    "collapsed": false
   },
   "outputs": [
    {
     "data": {
      "image/png": "[encoded data removed]",
      "text/plain": [
       "<matplotlib.figure.Figure at 0x107502e48>"
      ]
     },
     "metadata": {},
     "output_type": "display_data"
    },
    {
     "name": "stdout",
     "output_type": "stream",
     "text": [
      "MAX: 2010.0\n",
      "MIN: 180.0\n"
     ]
    }
   ],
   "source": [
    "import cv2\n",
    "from sklearn.utils import shuffle\n",
    "import numpy as np\n",
    "import matplotlib.pyplot as plt\n",
    "%matplotlib inline\n",
    "\n",
    "# the histogram of the data\n",
    "n, bins, patches = plt.hist(y_train, 43, histtype='bar')\n",
    "plt.title(\"Traffic Sign Class Distribution\")\n",
    "plt.xlabel(\"Traffic Sign Class\")\n",
    "plt.ylabel(\"Examples in Training Set\")\n",
    "plt.show()\n",
    "\n",
    "print(\"MAX: {}\".format(max(n)))\n",
    "print(\"MIN: {}\".format(min(n)))"
   ]
  },
  {
   "cell_type": "markdown",
   "metadata": {},
   "source": [
    "## Preprocess Data\n",
    "\n",
    "Shuffle the training data."
   ]
  },
  {
   "cell_type": "code",
   "execution_count": 4,
   "metadata": {
    "collapsed": false
   },
   "outputs": [],
   "source": [
    "def equalize_hist_color(img):\n",
    "    ycrcb = cv2.cvtColor(img, cv2.COLOR_RGB2YCR_CB)\n",
    "    ycrcb[:,:,0] = cv2.equalizeHist(ycrcb[:,:,0])\n",
    "    return cv2.cvtColor(ycrcb, cv2.COLOR_YCR_CB2RGB)\n",
    "\n",
    "def normalize_img(img):\n",
    "    return (img / 255.) - 0.5\n",
    "\n",
    "def preprocess(images):\n",
    "#     i, r, c, ch = images.shape\n",
    "#     out = np.empty((i,r,c), dtype=np.uint8)\n",
    "#     for i in range(out.shape[0]):\n",
    "#         out[i] = cv2.cvtColor(images[i], cv2.COLOR_RGB2GRAY)\n",
    "    return images\n",
    "\n",
    "X_train_process = preprocess(X_train)\n",
    "X_valid_process = preprocess(X_valid)\n",
    "X_test_process = preprocess(X_test)"
   ]
  },
  {
   "cell_type": "code",
   "execution_count": null,
   "metadata": {
    "collapsed": false
   },
   "outputs": [],
   "source": [
    "def rand_warp_img(img, degree):\n",
    "    s = img.shape[0]\n",
    "    d = lambda: np.random.randint(0, (s*degree))\n",
    "\n",
    "    pts1 = np.float32([[0,0],[s,0],[s,s],[0,s]])\n",
    "    diff = np.float32([[d(),d()],[-d(),d()],[-d(),-d()],[d(),-d()]])\n",
    "    pts2 = pts1 + diff\n",
    "    M = cv2.getPerspectiveTransform(pts2, pts1)\n",
    "    out = cv2.warpPerspective(img, M, (32,32))\n",
    "    return out"
   ]
  },
  {
   "cell_type": "code",
   "execution_count": null,
   "metadata": {
    "collapsed": true
   },
   "outputs": [],
   "source": [
    "import matplotlib.gridspec as gridspec\n",
    "\n",
    "indices = np.random.randint(X_train.shape[0], size=30)\n",
    "sample_imgs = X_train[indices]\n",
    "\n",
    "gs1 = gridspec.GridSpec(10, 10)\n",
    "gs1.update(wspace=0.01, hspace=0.02) # set the spacing between axes. \n",
    "plt.figure(figsize=(20,10))\n",
    "for i in range(len(sample_imgs)):\n",
    "    a = plt.subplot(gs1[i])\n",
    "    a.axis(\"off\")\n",
    "    a.set_aspect('equal')\n",
    "    new_img = sample_imgs[i]\n",
    "    plt.subplot(10,10,i+1)\n",
    "    plt.imshow(new_img, cmap=\"gray\")\n",
    "    plt.axis('off')\n",
    "\n",
    "gs1 = gridspec.GridSpec(10, 10)\n",
    "gs1.update(wspace=0.01, hspace=0.02) # set the spacing between axes. \n",
    "plt.figure(figsize=(20,10))\n",
    "for i in range(len(sample_imgs)):\n",
    "    a = plt.subplot(gs1[i])\n",
    "    a.axis(\"off\")\n",
    "    a.set_aspect('equal')\n",
    "    new_img = equalize_hist_color(sample_imgs[i])\n",
    "    plt.subplot(10,10,i+1)\n",
    "    plt.imshow(new_img, cmap=\"gray\")\n",
    "    plt.axis('off')\n",
    "\n",
    "plt.show()"
   ]
  },
  {
   "cell_type": "code",
   "execution_count": null,
   "metadata": {
    "collapsed": false
   },
   "outputs": [],
   "source": [
    "def augment_dataset(X, y):\n",
    "    X_aug = np.copy(X)\n",
    "    y_aug = np.copy(y)\n",
    "    \n",
    "    for i in range(X.shape[0]):\n",
    "        label = y_aug[i]\n",
    "        aug_img = rand_warp_img(X_aug[i], .3)\n",
    "        X_aug = np.append(X_aug, [aug_img], axis=0)\n",
    "        y_aug = np.append(y_aug, label)\n",
    "    \n",
    "    assert X_aug.shape[0] == y_aug.shape[0]\n",
    "    return X_aug, y_aug\n",
    "\n",
    "print(X_train.shape)\n",
    "print(y_train.shape)\n",
    "%time X_aug, y_aug = augment_dataset(X_train, y_train)\n",
    "print(X_aug.shape)\n",
    "print(y_aug.shape)\n",
    "\n",
    "np.save('dataset/data_aug.npy', {'X':X_aug,'y':y_aug})"
   ]
  },
  {
   "cell_type": "code",
   "execution_count": null,
   "metadata": {
    "collapsed": false
   },
   "outputs": [],
   "source": [
    "import matplotlib.gridspec as gridspec\n",
    "\n",
    "img = X_train[0]\n",
    "\n",
    "gs1 = gridspec.GridSpec(10, 10)\n",
    "gs1.update(wspace=0.01, hspace=0.02) # set the spacing between axes. \n",
    "plt.figure(figsize=(12,12))\n",
    "for i in range(100):\n",
    "    a = plt.subplot(gs1[i])\n",
    "    a.axis(\"off\")\n",
    "    a.set_aspect('equal')\n",
    "    new_img = rand_warp_img(img, 0.3)\n",
    "    plt.subplot(10,10,i+1)\n",
    "    plt.imshow(new_img, cmap=\"gray\")\n",
    "    plt.axis('off')"
   ]
  },
  {
   "cell_type": "markdown",
   "metadata": {},
   "source": [
    "## Setup TensorFlow\n",
    "The `EPOCH` and `BATCH_SIZE` values affect the training speed and model accuracy.\n",
    "\n",
    "You do not need to modify this section."
   ]
  },
  {
   "cell_type": "code",
   "execution_count": 10,
   "metadata": {
    "collapsed": true
   },
   "outputs": [],
   "source": [
    "import tensorflow as tf\n",
    "\n",
    "EPOCHS = 20\n",
    "BATCH_SIZE = 128"
   ]
  },
  {
   "cell_type": "markdown",
   "metadata": {},
   "source": [
    "## TODO: Implement LeNet-5\n",
    "Implement the [LeNet-5](http://yann.lecun.com/exdb/lenet/) neural network architecture.\n",
    "\n",
    "This is the only cell you need to edit.\n",
    "### Input\n",
    "The LeNet architecture accepts a 32x32xC image as input, where C is the number of color channels. Since MNIST images are grayscale, C is 1 in this case.\n",
    "\n",
    "### Architecture\n",
    "**Layer 1: Convolutional.** The output shape should be 28x28x6.\n",
    "\n",
    "**Activation.** Your choice of activation function.\n",
    "\n",
    "**Pooling.** The output shape should be 14x14x6.\n",
    "\n",
    "**Layer 2: Convolutional.** The output shape should be 10x10x16.\n",
    "\n",
    "**Activation.** Your choice of activation function.\n",
    "\n",
    "**Pooling.** The output shape should be 5x5x16.\n",
    "\n",
    "**Flatten.** Flatten the output shape of the final pooling layer such that it's 1D instead of 3D. The easiest way to do is by using `tf.contrib.layers.flatten`, which is already imported for you.\n",
    "\n",
    "**Layer 3: Fully Connected.** This should have 120 outputs.\n",
    "\n",
    "**Activation.** Your choice of activation function.\n",
    "\n",
    "**Layer 4: Fully Connected.** This should have 84 outputs.\n",
    "\n",
    "**Activation.** Your choice of activation function.\n",
    "\n",
    "**Layer 5: Fully Connected (Logits).** This should have 10 outputs.\n",
    "\n",
    "### Output\n",
    "Return the result of the 2nd fully connected layer."
   ]
  },
  {
   "cell_type": "code",
   "execution_count": 6,
   "metadata": {
    "collapsed": false
   },
   "outputs": [],
   "source": [
    "# Store layers weight & bias\n",
    "mu = 0\n",
    "sigma = 0.1\n",
    "weight_var = lambda shape: tf.Variable(tf.truncated_normal(shape, mean=mu, stddev=sigma))\n",
    "bias_var = lambda n: tf.Variable(tf.zeros(n))\n",
    "\n",
    "weights = {\n",
    "    'wc1': weight_var((5,5,3,6)),\n",
    "    'wc2': weight_var((5,5,6,16)),\n",
    "    'fc1': weight_var((400,120)),\n",
    "    'fc2': weight_var((120,84)),\n",
    "    'out': weight_var((84,43))}\n",
    "\n",
    "biases = {\n",
    "    'bc1': bias_var(6),\n",
    "    'bc2': bias_var(16),\n",
    "    'bd1': bias_var(120),\n",
    "    'bd2': bias_var(84),\n",
    "    'out': bias_var(43)}\n",
    "\n",
    "def conv2d(x, W, b, strides=1):\n",
    "    x = tf.nn.conv2d(x, W, strides=(1,strides,strides,1), padding=\"VALID\")\n",
    "    x = tf.nn.bias_add(x, b)\n",
    "    return tf.nn.relu(x)\n",
    "\n",
    "def pool(x, k=2):\n",
    "    return tf.nn.max_pool(x, ksize=(1,k,k,1), strides=(1,k,k,1), padding=\"VALID\")\n",
    "\n",
    "def fc(x, W, b, activate_layer=True):\n",
    "    x = tf.add(tf.matmul(x, W), b)\n",
    "    if activate_layer:\n",
    "        x = tf.nn.relu(x)\n",
    "    return x"
   ]
  },
  {
   "cell_type": "code",
   "execution_count": 7,
   "metadata": {
    "collapsed": true
   },
   "outputs": [],
   "source": [
    "from tensorflow.contrib.layers import flatten\n",
    "\n",
    "def LeNet(x):\n",
    "    # Layer 1: Convolutional. Input = 32x32x3. Output = 28x28x6.\n",
    "    x = conv2d(x, weights['wc1'], biases['bc1'])\n",
    "\n",
    "    # Pooling. Input = 28x28x6. Output = 14x14x6.\n",
    "    x = pool(x, k=2)\n",
    "\n",
    "    # Layer 2: Convolutional. Output = 10x10x16.\n",
    "    x = conv2d(x, weights['wc2'], biases['bc2'])\n",
    "\n",
    "    # Pooling. Input = 10x10x16. Output = 5x5x16.\n",
    "    x = pool(x, k=2)\n",
    "\n",
    "    # Flatten. Input = 5x5x16. Output = 400.\n",
    "    x = flatten(x)\n",
    "    \n",
    "    # Layer 3: Fully Connected. Input = 400. Output = 120.\n",
    "    x = fc(x, weights['fc1'], biases['bd1'])\n",
    "\n",
    "    # Layer 4: Fully Connected. Input = 120. Output = 84.\n",
    "    x = fc(x, weights['fc2'], biases['bd2'])\n",
    "\n",
    "    # Layer 5: Fully Connected. Input = 84. Output = 10.\n",
    "    return fc(x, weights['out'], biases['out'], activate_layer=False)"
   ]
  },
  {
   "cell_type": "markdown",
   "metadata": {},
   "source": [
    "## Features and Labels\n",
    "Train LeNet to classify [MNIST](http://yann.lecun.com/exdb/mnist/) data.\n",
    "\n",
    "`x` is a placeholder for a batch of input images.\n",
    "`y` is a placeholder for a batch of output labels.\n",
    "\n",
    "You do not need to modify this section."
   ]
  },
  {
   "cell_type": "code",
   "execution_count": 8,
   "metadata": {
    "collapsed": false
   },
   "outputs": [],
   "source": [
    "x = tf.placeholder(tf.float32, (None, 32, 32, 3))\n",
    "y = tf.placeholder(tf.int32, (None))\n",
    "one_hot_y = tf.one_hot(y, 43)"
   ]
  },
  {
   "cell_type": "markdown",
   "metadata": {},
   "source": [
    "## Training Pipeline\n",
    "Create a training pipeline that uses the model to classify MNIST data.\n",
    "\n",
    "You do not need to modify this section."
   ]
  },
  {
   "cell_type": "code",
   "execution_count": 9,
   "metadata": {
    "collapsed": false
   },
   "outputs": [],
   "source": [
    "rate = 0.001\n",
    "logits = LeNet(x)\n",
    "cross_entropy = tf.nn.softmax_cross_entropy_with_logits(logits=logits, labels=one_hot_y)\n",
    "loss_operation = tf.reduce_mean(cross_entropy)\n",
    "optimizer = tf.train.AdamOptimizer(learning_rate=rate)\n",
    "training_operation = optimizer.minimize(loss_operation)"
   ]
  },
  {
   "cell_type": "markdown",
   "metadata": {},
   "source": [
    "## Model Evaluation\n",
    "Evaluate how well the loss and accuracy of the model for a given dataset.\n",
    "\n",
    "You do not need to modify this section."
   ]
  },
  {
   "cell_type": "code",
   "execution_count": 11,
   "metadata": {
    "collapsed": true
   },
   "outputs": [],
   "source": [
    "correct_prediction = tf.equal(tf.argmax(logits, 1), tf.argmax(one_hot_y, 1))\n",
    "accuracy_operation = tf.reduce_mean(tf.cast(correct_prediction, tf.float32))\n",
    "saver = tf.train.Saver()\n",
    "\n",
    "def evaluate(X_data, y_data):\n",
    "    num_examples = len(X_data)\n",
    "    total_accuracy = 0\n",
    "    sess = tf.get_default_session()\n",
    "    for offset in range(0, num_examples, BATCH_SIZE):\n",
    "        batch_x, batch_y = X_data[offset:offset+BATCH_SIZE], y_data[offset:offset+BATCH_SIZE]\n",
    "        accuracy = sess.run(accuracy_operation, feed_dict={x: batch_x, y: batch_y})\n",
    "        total_accuracy += (accuracy * len(batch_x))\n",
    "    return total_accuracy / num_examples"
   ]
  },
  {
   "cell_type": "markdown",
   "metadata": {},
   "source": [
    "## Train the Model\n",
    "Run the training data through the training pipeline to train the model.\n",
    "\n",
    "Before each epoch, shuffle the training set.\n",
    "\n",
    "After each epoch, measure the loss and accuracy of the validation set.\n",
    "\n",
    "Save the model after training.\n",
    "\n",
    "You do not need to modify this section."
   ]
  },
  {
   "cell_type": "code",
   "execution_count": 12,
   "metadata": {
    "collapsed": false
   },
   "outputs": [
    {
     "name": "stdout",
     "output_type": "stream",
     "text": [
      "Training...\n",
      "\n",
      "EPOCH 1 ...\n",
      "Validation Accuracy = 0.606\n",
      "\n",
      "EPOCH 2 ...\n",
      "Validation Accuracy = 0.762\n",
      "\n",
      "EPOCH 3 ...\n",
      "Validation Accuracy = 0.803\n",
      "\n",
      "EPOCH 4 ...\n",
      "Validation Accuracy = 0.824\n",
      "\n",
      "EPOCH 5 ...\n",
      "Validation Accuracy = 0.829\n",
      "\n",
      "EPOCH 6 ...\n",
      "Validation Accuracy = 0.836\n",
      "\n",
      "EPOCH 7 ...\n",
      "Validation Accuracy = 0.842\n",
      "\n",
      "EPOCH 8 ...\n",
      "Validation Accuracy = 0.847\n",
      "\n",
      "EPOCH 9 ...\n",
      "Validation Accuracy = 0.862\n",
      "\n",
      "EPOCH 10 ...\n",
      "Validation Accuracy = 0.857\n",
      "\n",
      "EPOCH 11 ...\n",
      "Validation Accuracy = 0.850\n",
      "\n",
      "EPOCH 12 ...\n",
      "Validation Accuracy = 0.861\n",
      "\n",
      "EPOCH 13 ...\n",
      "Validation Accuracy = 0.857\n",
      "\n",
      "EPOCH 14 ...\n",
      "Validation Accuracy = 0.859\n",
      "\n",
      "EPOCH 15 ...\n",
      "Validation Accuracy = 0.867\n",
      "\n",
      "EPOCH 16 ...\n",
      "Validation Accuracy = 0.880\n",
      "\n",
      "EPOCH 17 ...\n",
      "Validation Accuracy = 0.874\n",
      "\n",
      "EPOCH 18 ...\n",
      "Validation Accuracy = 0.890\n",
      "\n",
      "EPOCH 19 ...\n",
      "Validation Accuracy = 0.871\n",
      "\n",
      "EPOCH 20 ...\n",
      "Validation Accuracy = 0.866\n",
      "\n",
      "Model saved\n"
     ]
    }
   ],
   "source": [
    "with tf.Session() as sess:\n",
    "    sess.run(tf.global_variables_initializer())\n",
    "    num_examples = len(X_train_process)\n",
    "    \n",
    "    print(\"Training...\")\n",
    "    print()\n",
    "    for i in range(EPOCHS):\n",
    "        X_train_process, y_train = shuffle(X_train_process, y_train)\n",
    "        for offset in range(0, num_examples, BATCH_SIZE):\n",
    "            end = offset + BATCH_SIZE\n",
    "            batch_x, batch_y = X_train_process[offset:end], y_train[offset:end]\n",
    "            sess.run(training_operation, feed_dict={x: batch_x, y: batch_y})\n",
    "            \n",
    "        validation_accuracy = evaluate(X_valid_process, y_valid)\n",
    "        print(\"EPOCH {} ...\".format(i+1))\n",
    "        print(\"Validation Accuracy = {:.3f}\".format(validation_accuracy))\n",
    "        print()\n",
    "        \n",
    "    saver.save(sess, './lenet')\n",
    "    print(\"Model saved\")"
   ]
  },
  {
   "cell_type": "markdown",
   "metadata": {},
   "source": [
    "## Evaluate the Model\n",
    "Once you are completely satisfied with your model, evaluate the performance of the model on the test set.\n",
    "\n",
    "Be sure to only do this once!\n",
    "\n",
    "If you were to measure the performance of your trained model on the test set, then improve your model, and then measure the performance of your model on the test set again, that would invalidate your test results. You wouldn't get a true measure of how well your model would perform against real data.\n",
    "\n",
    "You do not need to modify this section."
   ]
  },
  {
   "cell_type": "code",
   "execution_count": null,
   "metadata": {
    "collapsed": false
   },
   "outputs": [],
   "source": [
    "with tf.Session() as sess:\n",
    "    saver.restore(sess, tf.train.latest_checkpoint('.'))\n",
    "\n",
    "    test_accuracy = evaluate(X_test, y_test)\n",
    "    print(\"Test Accuracy = {:.3f}\".format(test_accuracy))"
   ]
  },
  {
   "cell_type": "code",
   "execution_count": null,
   "metadata": {
    "collapsed": true
   },
   "outputs": [],
   "source": []
  }
 ],
 "metadata": {
  "anaconda-cloud": {},
  "kernelspec": {
   "display_name": "Python 3",
   "language": "python",
   "name": "python3"
  },
  "language_info": {
   "codemirror_mode": {
    "name": "ipython",
    "version": 3
   },
   "file_extension": ".py",
   "mimetype": "text/x-python",
   "name": "python",
   "nbconvert_exporter": "python",
   "pygments_lexer": "ipython3",
   "version": "3.5.2"
  }
 },
 "nbformat": 4,
 "nbformat_minor": 0
}

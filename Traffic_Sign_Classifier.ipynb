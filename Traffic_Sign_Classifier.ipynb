{
 "cells": [
  {
   "cell_type": "markdown",
   "metadata": {},
   "source": [
    "# Self-Driving Car Engineer Nanodegree\n",
    "\n",
    "## Deep Learning\n",
    "\n",
    "## Project: Build a Traffic Sign Recognition Classifier\n",
    "\n",
    "In this notebook, a template is provided for you to implement your functionality in stages, which is required to successfully complete this project. If additional code is required that cannot be included in the notebook, be sure that the Python code is successfully imported and included in your submission if necessary. \n",
    "\n",
    "> **Note**: Once you have completed all of the code implementations, you need to finalize your work by exporting the iPython Notebook as an HTML document. Before exporting the notebook to html, all of the code cells need to have been run so that reviewers can see the final implementation and output. You can then export the notebook by using the menu above and navigating to  \\n\",\n",
    "    \"**File -> Download as -> HTML (.html)**. Include the finished document along with this notebook as your submission. \n",
    "\n",
    "In addition to implementing code, there is a writeup to complete. The writeup should be completed in a separate file, which can be either a markdown file or a pdf document. There is a [write up template](https://github.com/udacity/CarND-Traffic-Sign-Classifier-Project/blob/master/writeup_template.md) that can be used to guide the writing process. Completing the code template and writeup template will cover all of the [rubric points](https://review.udacity.com/#!/rubrics/481/view) for this project.\n",
    "\n",
    "The [rubric](https://review.udacity.com/#!/rubrics/481/view) contains \"Stand Out Suggestions\" for enhancing the project beyond the minimum requirements. The stand out suggestions are optional. If you decide to pursue the \"stand out suggestions\", you can include the code in this Ipython notebook and also discuss the results in the writeup file.\n",
    "\n",
    "\n",
    ">**Note:** Code and Markdown cells can be executed using the **Shift + Enter** keyboard shortcut. In addition, Markdown cells can be edited by typically double-clicking the cell to enter edit mode."
   ]
  },
  {
   "cell_type": "markdown",
   "metadata": {},
   "source": [
    "---\n",
    "## Step 0: Load The Data"
   ]
  },
  {
   "cell_type": "code",
   "execution_count": 1,
   "metadata": {
    "collapsed": true
   },
   "outputs": [],
   "source": [
    "import cv2\n",
    "from sklearn.utils import shuffle\n",
    "import numpy as np\n",
    "import matplotlib.pyplot as plt\n",
    "%matplotlib inline"
   ]
  },
  {
   "cell_type": "code",
   "execution_count": 2,
   "metadata": {
    "collapsed": false
   },
   "outputs": [],
   "source": [
    "# Load pickled data\n",
    "import pickle\n",
    "\n",
    "training_file = \"./dataset/train.p\"\n",
    "validation_file= \"./dataset/valid.p\"\n",
    "testing_file = \"./dataset/test.p\"\n",
    "\n",
    "with open(training_file, mode='rb') as f:\n",
    "    train = pickle.load(f)\n",
    "with open(validation_file, mode='rb') as f:\n",
    "    valid = pickle.load(f)\n",
    "with open(testing_file, mode='rb') as f:\n",
    "    test = pickle.load(f)\n",
    "    \n",
    "X_train, y_train = train['features'], train['labels']\n",
    "X_valid, y_valid = valid['features'], valid['labels']\n",
    "X_test, y_test = test['features'], test['labels']"
   ]
  },
  {
   "cell_type": "markdown",
   "metadata": {},
   "source": [
    "---\n",
    "\n",
    "## Step 1: Dataset Summary & Exploration\n",
    "\n",
    "The pickled data is a dictionary with 4 key/value pairs:\n",
    "\n",
    "- `'features'` is a 4D array containing raw pixel data of the traffic sign images, (num examples, width, height, channels).\n",
    "- `'labels'` is a 1D array containing the label/class id of the traffic sign. The file `signnames.csv` contains id -> name mappings for each id.\n",
    "- `'sizes'` is a list containing tuples, (width, height) representing the original width and height the image.\n",
    "- `'coords'` is a list containing tuples, (x1, y1, x2, y2) representing coordinates of a bounding box around the sign in the image. **THESE COORDINATES ASSUME THE ORIGINAL IMAGE. THE PICKLED DATA CONTAINS RESIZED VERSIONS (32 by 32) OF THESE IMAGES**"
   ]
  },
  {
   "cell_type": "markdown",
   "metadata": {},
   "source": [
    "### Provide a Basic Summary of the Data Set Using Python, Numpy and/or Pandas"
   ]
  },
  {
   "cell_type": "code",
   "execution_count": 3,
   "metadata": {
    "collapsed": false
   },
   "outputs": [
    {
     "name": "stdout",
     "output_type": "stream",
     "text": [
      "Number of training examples = 34799\n",
      "Number of testing examples = 12630\n",
      "Image data shape = (32, 32, 3)\n",
      "Number of classes = 43\n"
     ]
    }
   ],
   "source": [
    "n_train = X_train.shape[0]\n",
    "n_test = X_test.shape[0]\n",
    "image_shape = X_train[0].shape\n",
    "n_classes = np.unique(y_train).shape[0]\n",
    "\n",
    "print(\"Number of training examples =\", n_train)\n",
    "print(\"Number of testing examples =\", n_test)\n",
    "print(\"Image data shape =\", image_shape)\n",
    "print(\"Number of classes =\", n_classes)"
   ]
  },
  {
   "cell_type": "markdown",
   "metadata": {},
   "source": [
    "### Include an exploratory visualization of the dataset"
   ]
  },
  {
   "cell_type": "code",
   "execution_count": 4,
   "metadata": {
    "collapsed": false
   },
   "outputs": [
    {
     "data": {
      "image/png": "[encoded data removed]",
      "text/plain": [
       "<matplotlib.figure.Figure at 0x7eff37d8d6a0>"
      ]
     },
     "metadata": {},
     "output_type": "display_data"
    }
   ],
   "source": [
    "n, bins, patches = plt.hist(y_train, 43, histtype='bar')\n",
    "plt.title(\"Classes Are Very Unevenly Distributed\")\n",
    "plt.xlabel(\"Traffic Sign Class\")\n",
    "plt.ylabel(\"Examples in Training Set\")\n",
    "plt.show()"
   ]
  },
  {
   "cell_type": "code",
   "execution_count": 5,
   "metadata": {
    "collapsed": false
   },
   "outputs": [],
   "source": [
    "import csv\n",
    "class_labels = {}\n",
    "with open('signnames.csv', mode='r') as infile:\n",
    "    reader = csv.reader(infile)\n",
    "    class_labels = {key: val for key, val in reader}"
   ]
  },
  {
   "cell_type": "code",
   "execution_count": 6,
   "metadata": {
    "collapsed": false
   },
   "outputs": [],
   "source": [
    "def visualize_class(X_, y_, rows=1, cols=12, annotate=False):\n",
    "    num = y_[0]\n",
    "    label = class_labels[str(num)]\n",
    "    if annotate:\n",
    "        print(\"=\" * 95)\n",
    "        print('LABEL: {} \"{}\"'.format(num, label))\n",
    "        print('COUNT: {}'.format(X_.shape[0]))\n",
    "    plt.figure(figsize=(14,2))\n",
    "    for i in range(cols):\n",
    "        plt.subplot(rows, cols, i+1, xticks=[], yticks=[])\n",
    "        plt.imshow(X_[np.random.randint(X_.shape[0])])\n",
    "    plt.show()"
   ]
  },
  {
   "cell_type": "code",
   "execution_count": null,
   "metadata": {
    "collapsed": false
   },
   "outputs": [],
   "source": [
    "for cls in range(n_classes):\n",
    "    visualize_class(X_train[y_train==cls], y_train[y_train==cls], annotate=True)"
   ]
  },
  {
   "cell_type": "markdown",
   "metadata": {},
   "source": [
    "----\n",
    "\n",
    "## Step 2: Design and Test a Model Architecture\n",
    "\n",
    "Design and implement a deep learning model that learns to recognize traffic signs. Train and test your model on the [German Traffic Sign Dataset](http://benchmark.ini.rub.de/?section=gtsrb&subsection=dataset).\n",
    "\n",
    "The LeNet-5 implementation shown in the [classroom](https://classroom.udacity.com/nanodegrees/nd013/parts/fbf77062-5703-404e-b60c-95b78b2f3f9e/modules/6df7ae49-c61c-4bb2-a23e-6527e69209ec/lessons/601ae704-1035-4287-8b11-e2c2716217ad/concepts/d4aca031-508f-4e0b-b493-e7b706120f81) at the end of the CNN lesson is a solid starting point. You'll have to change the number of classes and possibly the preprocessing, but aside from that it's plug and play! \n",
    "\n",
    "With the LeNet-5 solution from the lecture, you should expect a validation set accuracy of about 0.89. To meet specifications, the validation set accuracy will need to be at least 0.93. It is possible to get an even higher accuracy, but 0.93 is the minimum for a successful project submission. \n",
    "\n",
    "There are various aspects to consider when thinking about this problem:\n",
    "\n",
    "- Neural network architecture (is the network over or underfitting?)\n",
    "- Play around preprocessing techniques (normalization, rgb to grayscale, etc)\n",
    "- Number of examples per label (some have more than others).\n",
    "- Generate fake data.\n",
    "\n",
    "Here is an example of a [published baseline model on this problem](http://yann.lecun.com/exdb/publis/pdf/sermanet-ijcnn-11.pdf). It's not required to be familiar with the approach used in the paper but, it's good practice to try to read papers like these."
   ]
  },
  {
   "cell_type": "markdown",
   "metadata": {},
   "source": [
    "### Pre-process the Data Set (normalization, grayscale, etc.)"
   ]
  },
  {
   "cell_type": "code",
   "execution_count": 7,
   "metadata": {
    "collapsed": true
   },
   "outputs": [],
   "source": [
    "def preprocess(images):\n",
    "    \"\"\"\n",
    "    1. Convert each image to grayscale and equalize histogram\n",
    "    2. Normalize image values and set the mean to zero\n",
    "    \"\"\"\n",
    "    out = np.empty(images.shape[:3], dtype=np.float32)\n",
    "    for idx in range(out.shape[0]):\n",
    "        out[idx] = cv2.equalizeHist(cv2.cvtColor(images[idx], cv2.COLOR_RGB2GRAY))\n",
    "        out[idx] = cv2.normalize(out[idx], out[idx], alpha=-0.5, beta=0.5,\n",
    "                                 norm_type=cv2.NORM_MINMAX, dtype=cv2.CV_32F)\n",
    "    return out.reshape(out.shape + (1,))"
   ]
  },
  {
   "cell_type": "code",
   "execution_count": 8,
   "metadata": {
    "collapsed": false
   },
   "outputs": [],
   "source": [
    "X_train_process = preprocess(X_train)\n",
    "X_valid_process = preprocess(X_valid)\n",
    "X_test_process = preprocess(X_test)"
   ]
  },
  {
   "cell_type": "code",
   "execution_count": null,
   "metadata": {
    "collapsed": false
   },
   "outputs": [],
   "source": [
    "rand_indices = np.random.choice(n_classes, size=3)\n",
    "for index in rand_indices:\n",
    "    subset_process = X_train_process[y_train==index]\n",
    "    visualize_class(subset_process.reshape(subset_process.shape[:3]), y_train[y_train==index])"
   ]
  },
  {
   "cell_type": "markdown",
   "metadata": {},
   "source": [
    "### Model Architecture"
   ]
  },
  {
   "cell_type": "code",
   "execution_count": 26,
   "metadata": {
    "collapsed": true
   },
   "outputs": [],
   "source": [
    "### Define your architecture here.\n",
    "### Feel free to use as many code cells as needed.\n",
    "import tensorflow as tf\n",
    "from tensorflow.contrib.layers import flatten\n",
    "\n",
    "EPOCHS = 100\n",
    "BATCH_SIZE = 256\n",
    "\n",
    "# Store layers weight & bias\n",
    "weight_var = lambda w_shape: tf.Variable(tf.truncated_normal(w_shape, mean=0, stddev=0.1))\n",
    "bias_var = lambda n_vars: tf.Variable(tf.zeros(n_vars))\n",
    "\n",
    "def conv2d(layer, W, b, strides=1):\n",
    "    out = tf.nn.conv2d(layer, W, strides=(1,strides,strides,1), padding=\"SAME\")\n",
    "    out = tf.nn.bias_add(out, b)\n",
    "    return tf.nn.relu(out)\n",
    "\n",
    "def pool(layer, k=2):\n",
    "    return tf.nn.max_pool(layer, ksize=(1,k,k,1), strides=(1,k,k,1), padding=\"SAME\")\n",
    "\n",
    "def fc(layer, W, b, activate_layer=True):\n",
    "    out = tf.add(tf.matmul(layer, W), b)\n",
    "    if activate_layer:\n",
    "        out = tf.nn.relu(out)\n",
    "    return out"
   ]
  },
  {
   "cell_type": "code",
   "execution_count": 27,
   "metadata": {
    "collapsed": false
   },
   "outputs": [],
   "source": [
    "keep_prob = tf.placeholder(tf.float32)\n",
    "\n",
    "def Model(x):\n",
    "    # Layer 1: Convolutional. Input = 32x32x1.\n",
    "    conv1 = conv2d(x, weight_var((5,5,1,32)), bias_var(32)) # Output = 32x32x32.\n",
    "    conv1 = pool(conv1, k=2) # Output = 16x16x32.\n",
    "\n",
    "    # Layer 2: Convolutional.\n",
    "    conv2 = conv2d(conv1, weight_var((5,5,32,64)), bias_var(64)) # Output = 16x16x64.\n",
    "    conv2 = pool(conv2, k=2) # Output = 8x8x64.\n",
    "    \n",
    "    # Layer 3: Convolutional.\n",
    "    conv3 = conv2d(conv2, weight_var((5,5,64,128)), bias_var(128)) # Output = 8x8x128.\n",
    "    conv3 = pool(conv3, k=2) # Output = 4x4x128.\n",
    "\n",
    "    # Layer 4: Flatten, Pool & Concatenate Layers.\n",
    "    # TensorFlow v1.0.1: tf.concat(values, axis);\n",
    "    try:\n",
    "        flat = tf.concat((flatten(pool(conv1, k=4)),\n",
    "                          flatten(pool(conv2, k=2)),\n",
    "                          flatten(conv3)), 1) # Output 3584.\n",
    "    # Prior TF versions: tf.concat(axis, values) :D\n",
    "    except:\n",
    "        flat = tf.concat(1, (flatten(pool(conv1, k=4)),\n",
    "                          flatten(pool(conv2, k=2)),\n",
    "                          flatten(conv3))) # Output 3584.\n",
    "    flat = tf.nn.dropout(flat, keep_prob=keep_prob)\n",
    "\n",
    "    # Layer 5: Fully Connected.\n",
    "    fc1 = fc(flat, weight_var((3584,1024)), bias_var(1024)) # Output = 1024.\n",
    "    fc1 = tf.nn.dropout(fc1, keep_prob=keep_prob)\n",
    "\n",
    "    # Layer 6: Fully Connected. Out.\n",
    "    return fc(fc1, weight_var((1024,43)), bias_var(43), activate_layer=False) # Output = 43."
   ]
  },
  {
   "cell_type": "markdown",
   "metadata": {},
   "source": [
    "### Train, Validate and Test the Model"
   ]
  },
  {
   "cell_type": "markdown",
   "metadata": {},
   "source": [
    "A validation set can be used to assess how well the model is performing. A low accuracy on the training and validation\n",
    "sets imply underfitting. A high accuracy on the training set but low accuracy on the validation set implies overfitting."
   ]
  },
  {
   "cell_type": "markdown",
   "metadata": {},
   "source": [
    "## Features and Labels"
   ]
  },
  {
   "cell_type": "code",
   "execution_count": 28,
   "metadata": {
    "collapsed": false
   },
   "outputs": [],
   "source": [
    "x = tf.placeholder(tf.float32, (None, 32, 32, 1))\n",
    "y = tf.placeholder(tf.int32, (None))\n",
    "one_hot_y = tf.one_hot(y, 43)"
   ]
  },
  {
   "cell_type": "markdown",
   "metadata": {},
   "source": [
    "## Training Pipeline"
   ]
  },
  {
   "cell_type": "code",
   "execution_count": 29,
   "metadata": {
    "collapsed": false
   },
   "outputs": [],
   "source": [
    "initial_learn_rate = 0.001\n",
    "global_step = tf.Variable(0, trainable=False)\n",
    "decay_steps = 10\n",
    "decay_rate = 0.75\n",
    "learning_rate = tf.train.exponential_decay(initial_learn_rate, global_step,\n",
    "                                           decay_steps, decay_rate, staircase=True)\n",
    "\n",
    "logits = Model(x)\n",
    "cross_entropy = tf.nn.softmax_cross_entropy_with_logits(logits=logits, labels=one_hot_y)\n",
    "loss_operation = tf.reduce_mean(cross_entropy)\n",
    "optimizer = tf.train.AdamOptimizer(learning_rate=learning_rate)\n",
    "training_operation = optimizer.minimize(loss_operation)"
   ]
  },
  {
   "cell_type": "markdown",
   "metadata": {},
   "source": [
    "## Model Evaluation"
   ]
  },
  {
   "cell_type": "code",
   "execution_count": 30,
   "metadata": {
    "collapsed": false
   },
   "outputs": [],
   "source": [
    "correct_prediction = tf.equal(tf.argmax(logits, 1), tf.argmax(one_hot_y, 1))\n",
    "accuracy_operation = tf.reduce_mean(tf.cast(correct_prediction, tf.float32))\n",
    "saver = tf.train.Saver()\n",
    "\n",
    "def evaluate(X_data, y_data):\n",
    "    num_examples = len(X_data)\n",
    "    total_accuracy = 0\n",
    "    sess = tf.get_default_session()\n",
    "    for offset in range(0, num_examples, BATCH_SIZE):\n",
    "        batch_x, batch_y = X_data[offset:offset+BATCH_SIZE], y_data[offset:offset+BATCH_SIZE]\n",
    "        accuracy = sess.run(accuracy_operation, feed_dict={x: batch_x, y: batch_y, keep_prob: 1.})\n",
    "        total_accuracy += (accuracy * len(batch_x))\n",
    "    return total_accuracy / num_examples"
   ]
  },
  {
   "cell_type": "markdown",
   "metadata": {},
   "source": [
    "## Train the Model"
   ]
  },
  {
   "cell_type": "code",
   "execution_count": 31,
   "metadata": {
    "collapsed": false
   },
   "outputs": [
    {
     "name": "stdout",
     "output_type": "stream",
     "text": [
      "Training...\n",
      "\n",
      "EPOCH 1 ...\n",
      "Validation Accuracy = 0.561\n",
      "\n",
      "EPOCH 2 ...\n",
      "Validation Accuracy = 0.800\n",
      "\n",
      "EPOCH 3 ...\n",
      "Validation Accuracy = 0.871\n",
      "\n",
      "EPOCH 4 ...\n",
      "Validation Accuracy = 0.910\n",
      "\n",
      "EPOCH 5 ...\n",
      "Validation Accuracy = 0.929\n",
      "\n",
      "EPOCH 6 ...\n",
      "Validation Accuracy = 0.941\n",
      "\n",
      "EPOCH 7 ...\n",
      "Validation Accuracy = 0.937\n",
      "\n",
      "EPOCH 8 ...\n",
      "Validation Accuracy = 0.951\n",
      "\n",
      "EPOCH 9 ...\n",
      "Validation Accuracy = 0.958\n",
      "\n",
      "EPOCH 10 ...\n",
      "Validation Accuracy = 0.956\n",
      "\n",
      "EPOCH 11 ...\n",
      "Validation Accuracy = 0.961\n",
      "\n",
      "EPOCH 12 ...\n",
      "Validation Accuracy = 0.963\n",
      "\n",
      "EPOCH 13 ...\n",
      "Validation Accuracy = 0.966\n",
      "\n",
      "EPOCH 14 ...\n",
      "Validation Accuracy = 0.960\n",
      "\n",
      "EPOCH 15 ...\n",
      "Validation Accuracy = 0.962\n",
      "\n",
      "EPOCH 16 ...\n",
      "Validation Accuracy = 0.973\n",
      "\n",
      "EPOCH 17 ...\n",
      "Validation Accuracy = 0.965\n",
      "\n",
      "EPOCH 18 ...\n",
      "Validation Accuracy = 0.970\n",
      "\n",
      "EPOCH 19 ...\n",
      "Validation Accuracy = 0.972\n",
      "\n",
      "EPOCH 20 ...\n",
      "Validation Accuracy = 0.974\n",
      "\n",
      "EPOCH 21 ...\n",
      "Validation Accuracy = 0.966\n",
      "\n",
      "EPOCH 22 ...\n",
      "Validation Accuracy = 0.958\n",
      "\n",
      "EPOCH 23 ...\n",
      "Validation Accuracy = 0.975\n",
      "\n",
      "EPOCH 24 ...\n",
      "Validation Accuracy = 0.974\n",
      "\n",
      "EPOCH 25 ...\n",
      "Validation Accuracy = 0.964\n",
      "\n",
      "EPOCH 26 ...\n",
      "Validation Accuracy = 0.965\n",
      "\n",
      "EPOCH 27 ...\n",
      "Validation Accuracy = 0.975\n",
      "\n",
      "EPOCH 28 ...\n",
      "Validation Accuracy = 0.973\n",
      "\n",
      "EPOCH 29 ...\n",
      "Validation Accuracy = 0.974\n",
      "\n",
      "EPOCH 30 ...\n",
      "Validation Accuracy = 0.980\n",
      "\n",
      "EPOCH 31 ...\n",
      "Validation Accuracy = 0.971\n",
      "\n",
      "EPOCH 32 ...\n",
      "Validation Accuracy = 0.976\n",
      "\n",
      "EPOCH 33 ...\n",
      "Validation Accuracy = 0.967\n",
      "\n",
      "EPOCH 34 ...\n",
      "Validation Accuracy = 0.972\n",
      "\n",
      "EPOCH 35 ...\n",
      "Validation Accuracy = 0.970\n",
      "\n",
      "EPOCH 36 ...\n",
      "Validation Accuracy = 0.980\n",
      "\n",
      "EPOCH 37 ...\n",
      "Validation Accuracy = 0.978\n",
      "\n",
      "EPOCH 38 ...\n",
      "Validation Accuracy = 0.975\n",
      "\n",
      "EPOCH 39 ...\n",
      "Validation Accuracy = 0.976\n",
      "\n",
      "EPOCH 40 ...\n",
      "Validation Accuracy = 0.972\n",
      "\n",
      "EPOCH 41 ...\n",
      "Validation Accuracy = 0.975\n",
      "\n",
      "EPOCH 42 ...\n",
      "Validation Accuracy = 0.970\n",
      "\n",
      "EPOCH 43 ...\n",
      "Validation Accuracy = 0.974\n",
      "\n",
      "EPOCH 44 ...\n",
      "Validation Accuracy = 0.970\n",
      "\n",
      "EPOCH 45 ...\n",
      "Validation Accuracy = 0.974\n",
      "\n",
      "EPOCH 46 ...\n",
      "Validation Accuracy = 0.974\n",
      "\n",
      "EPOCH 47 ...\n",
      "Validation Accuracy = 0.971\n",
      "\n",
      "EPOCH 48 ...\n",
      "Validation Accuracy = 0.980\n",
      "\n",
      "EPOCH 49 ...\n",
      "Validation Accuracy = 0.980\n",
      "\n",
      "EPOCH 50 ...\n",
      "Validation Accuracy = 0.971\n",
      "\n",
      "EPOCH 51 ...\n",
      "Validation Accuracy = 0.983\n",
      "\n",
      "EPOCH 52 ...\n",
      "Validation Accuracy = 0.971\n",
      "\n",
      "EPOCH 53 ...\n",
      "Validation Accuracy = 0.974\n",
      "\n",
      "EPOCH 54 ...\n",
      "Validation Accuracy = 0.980\n",
      "\n",
      "EPOCH 55 ...\n",
      "Validation Accuracy = 0.978\n",
      "\n",
      "EPOCH 56 ...\n",
      "Validation Accuracy = 0.981\n",
      "\n",
      "EPOCH 57 ...\n",
      "Validation Accuracy = 0.976\n",
      "\n",
      "EPOCH 58 ...\n",
      "Validation Accuracy = 0.976\n",
      "\n",
      "EPOCH 59 ...\n",
      "Validation Accuracy = 0.981\n",
      "\n",
      "EPOCH 60 ...\n",
      "Validation Accuracy = 0.981\n",
      "\n",
      "EPOCH 61 ...\n",
      "Validation Accuracy = 0.981\n",
      "\n",
      "EPOCH 62 ...\n",
      "Validation Accuracy = 0.975\n",
      "\n",
      "EPOCH 63 ...\n",
      "Validation Accuracy = 0.976\n",
      "\n",
      "EPOCH 64 ...\n",
      "Validation Accuracy = 0.976\n",
      "\n",
      "EPOCH 65 ...\n",
      "Validation Accuracy = 0.978\n",
      "\n",
      "EPOCH 66 ...\n",
      "Validation Accuracy = 0.971\n",
      "\n",
      "EPOCH 67 ...\n",
      "Validation Accuracy = 0.977\n",
      "\n",
      "EPOCH 68 ...\n",
      "Validation Accuracy = 0.973\n",
      "\n",
      "EPOCH 69 ...\n",
      "Validation Accuracy = 0.968\n",
      "\n",
      "EPOCH 70 ...\n",
      "Validation Accuracy = 0.973\n",
      "\n",
      "EPOCH 71 ...\n",
      "Validation Accuracy = 0.978\n",
      "\n",
      "EPOCH 72 ...\n",
      "Validation Accuracy = 0.972\n",
      "\n",
      "EPOCH 73 ...\n",
      "Validation Accuracy = 0.977\n",
      "\n",
      "EPOCH 74 ...\n",
      "Validation Accuracy = 0.980\n",
      "\n",
      "EPOCH 75 ...\n",
      "Validation Accuracy = 0.972\n",
      "\n",
      "EPOCH 76 ...\n",
      "Validation Accuracy = 0.978\n",
      "\n",
      "EPOCH 77 ...\n",
      "Validation Accuracy = 0.971\n",
      "\n",
      "EPOCH 78 ...\n",
      "Validation Accuracy = 0.975\n",
      "\n",
      "EPOCH 79 ...\n",
      "Validation Accuracy = 0.972\n",
      "\n",
      "EPOCH 80 ...\n",
      "Validation Accuracy = 0.975\n",
      "\n",
      "EPOCH 81 ...\n",
      "Validation Accuracy = 0.973\n",
      "\n",
      "EPOCH 82 ...\n",
      "Validation Accuracy = 0.980\n",
      "\n",
      "EPOCH 83 ...\n",
      "Validation Accuracy = 0.970\n",
      "\n",
      "EPOCH 84 ...\n",
      "Validation Accuracy = 0.978\n",
      "\n",
      "EPOCH 85 ...\n",
      "Validation Accuracy = 0.976\n",
      "\n",
      "EPOCH 86 ...\n",
      "Validation Accuracy = 0.977\n",
      "\n",
      "EPOCH 87 ...\n",
      "Validation Accuracy = 0.977\n",
      "\n",
      "EPOCH 88 ...\n",
      "Validation Accuracy = 0.982\n",
      "\n",
      "EPOCH 89 ...\n",
      "Validation Accuracy = 0.977\n",
      "\n",
      "EPOCH 90 ...\n",
      "Validation Accuracy = 0.975\n",
      "\n",
      "EPOCH 91 ...\n",
      "Validation Accuracy = 0.977\n",
      "\n",
      "EPOCH 92 ...\n",
      "Validation Accuracy = 0.978\n",
      "\n",
      "EPOCH 93 ...\n",
      "Validation Accuracy = 0.976\n",
      "\n",
      "EPOCH 94 ...\n",
      "Validation Accuracy = 0.967\n",
      "\n",
      "EPOCH 95 ...\n",
      "Validation Accuracy = 0.981\n",
      "\n",
      "EPOCH 96 ...\n",
      "Validation Accuracy = 0.979\n",
      "\n",
      "EPOCH 97 ...\n",
      "Validation Accuracy = 0.982\n",
      "\n",
      "EPOCH 98 ...\n",
      "Validation Accuracy = 0.979\n",
      "\n",
      "EPOCH 99 ...\n",
      "Validation Accuracy = 0.977\n",
      "\n",
      "EPOCH 100 ...\n",
      "Validation Accuracy = 0.981\n",
      "\n",
      "Model saved\n"
     ]
    }
   ],
   "source": [
    "with tf.Session() as sess:\n",
    "    sess.run(tf.global_variables_initializer())\n",
    "    num_examples = len(X_train_process)\n",
    "    \n",
    "    print(\"Training...\")\n",
    "    print()\n",
    "    for i in range(EPOCHS):\n",
    "        X_train_process, y_train = shuffle(X_train_process, y_train)\n",
    "        for offset in range(0, num_examples, BATCH_SIZE):\n",
    "            end = offset + BATCH_SIZE\n",
    "            batch_x, batch_y = X_train_process[offset:end], y_train[offset:end]\n",
    "            sess.run(training_operation, feed_dict={x: batch_x, y: batch_y, keep_prob: 0.50})\n",
    "        validation_accuracy = evaluate(X_valid_process, y_valid)\n",
    "        print(\"EPOCH {} ...\".format(i+1))\n",
    "        print(\"Validation Accuracy = {:.3f}\".format(validation_accuracy))\n",
    "        print()\n",
    "        \n",
    "    saver.save(sess, './dataset/model.ckpt')\n",
    "    print(\"Model saved\")"
   ]
  },
  {
   "cell_type": "markdown",
   "metadata": {},
   "source": [
    "## Evaluate the Model"
   ]
  },
  {
   "cell_type": "code",
   "execution_count": 32,
   "metadata": {
    "collapsed": false
   },
   "outputs": [
    {
     "name": "stdout",
     "output_type": "stream",
     "text": [
      "(12630, 32, 32, 1)\n",
      "(12630,)\n",
      "Test Accuracy = 0.959\n"
     ]
    }
   ],
   "source": [
    "print(X_test_process.shape)\n",
    "print(y_test.shape)\n",
    "with tf.Session() as sess:\n",
    "    sess.run(tf.global_variables_initializer())\n",
    "    saver.restore(sess, './dataset/model.ckpt')\n",
    "\n",
    "    test_accuracy = evaluate(X_test_process, y_test)\n",
    "    print(\"Test Accuracy = {:.3f}\".format(test_accuracy))"
   ]
  },
  {
   "cell_type": "markdown",
   "metadata": {},
   "source": [
    "---\n",
    "\n",
    "## Step 3: Test a Model on New Images"
   ]
  },
  {
   "cell_type": "markdown",
   "metadata": {},
   "source": [
    "### Load and Output the Images"
   ]
  },
  {
   "cell_type": "code",
   "execution_count": 33,
   "metadata": {
    "collapsed": false
   },
   "outputs": [
    {
     "data": {
      "image/png": "[encoded data removed]",
      "text/plain": [
       "<matplotlib.figure.Figure at 0x7eff28b98da0>"
      ]
     },
     "metadata": {},
     "output_type": "display_data"
    }
   ],
   "source": [
    "sign_classes = np.array([7, 9, 11, 17, 25, 31, 40])\n",
    "n_signs = len(sign_classes)\n",
    "sign_data = np.empty((n_signs,32,32,3), dtype=np.uint8)\n",
    "sign_path = \"./signs/{}.jpg\"\n",
    "\n",
    "plt.figure(figsize=(20,2))\n",
    "for i, label in enumerate(sign_classes):\n",
    "    sign = cv2.cvtColor(cv2.imread(sign_path.format(label), cv2.IMREAD_COLOR), cv2.COLOR_BGR2RGB)\n",
    "    sign_data[i] = cv2.resize(sign, (32,32))\n",
    "    plt.subplot(1, n_signs, i+1, xticks=[], yticks=[])\n",
    "    plt.imshow(sign_data[i])\n",
    "    plt.title(\"{}: {}\".format(label, class_labels[str(label)][:18]), loc=\"left\")\n",
    "plt.show()"
   ]
  },
  {
   "cell_type": "markdown",
   "metadata": {},
   "source": [
    "### Predict the Sign Type for Each Image"
   ]
  },
  {
   "cell_type": "code",
   "execution_count": 34,
   "metadata": {
    "collapsed": false
   },
   "outputs": [
    {
     "data": {
      "image/png": "[encoded data removed]",
      "text/plain": [
       "<matplotlib.figure.Figure at 0x7eff297ee6d8>"
      ]
     },
     "metadata": {},
     "output_type": "display_data"
    },
    {
     "name": "stdout",
     "output_type": "stream",
     "text": [
      "[ 0.97249514  0.85163695  0.40878621  0.96441245  0.98991579  0.67851692\n",
      "  0.94013298]\n",
      "[ 7  7 22  7  7 22  7]\n"
     ]
    }
   ],
   "source": [
    "sign_data_process = preprocess(sign_data)\n",
    "plt.figure(figsize=(20,2))\n",
    "for i, label in enumerate(sign_classes):\n",
    "    plt.subplot(1, n_signs, i+1, xticks=[], yticks=[])\n",
    "    plt.imshow(sign_data_process[i].reshape((32,32)))\n",
    "    plt.title(\"{}: {}\".format(label, class_labels[str(label)][:18]), loc=\"left\")\n",
    "plt.show()\n",
    "\n",
    "sign_x = tf.placeholder(tf.float32, (None, 32, 32, 1))\n",
    "predictions = tf.nn.softmax(Model(sign_x))\n",
    "prediction_operation = tf.nn.top_k(predictions, 5)\n",
    "\n",
    "with tf.Session() as sess:\n",
    "    sess.run(tf.global_variables_initializer())\n",
    "    saver.restore(sess, './dataset/model.ckpt')\n",
    "    probs, indices = sess.run(prediction_operation, feed_dict={sign_x: sign_data_process, keep_prob: 1.})\n",
    "    print(probs[:,0])\n",
    "    print(indices[:,0])"
   ]
  },
  {
   "cell_type": "markdown",
   "metadata": {},
   "source": [
    "### Analyze Performance"
   ]
  },
  {
   "cell_type": "code",
   "execution_count": null,
   "metadata": {
    "collapsed": true
   },
   "outputs": [],
   "source": [
    "### Calculate the accuracy for these 5 new images. \n",
    "### For example, if the model predicted 1 out of 5 signs correctly, it's 20% accurate on these new images."
   ]
  },
  {
   "cell_type": "markdown",
   "metadata": {},
   "source": [
    "### Output Top 5 Softmax Probabilities For Each Image Found on the Web"
   ]
  },
  {
   "cell_type": "markdown",
   "metadata": {},
   "source": [
    "For each of the new images, print out the model's softmax probabilities to show the **certainty** of the model's predictions (limit the output to the top 5 probabilities for each image). [`tf.nn.top_k`](https://www.tensorflow.org/versions/r0.12/api_docs/python/nn.html#top_k) could prove helpful here. \n",
    "\n",
    "The example below demonstrates how tf.nn.top_k can be used to find the top k predictions for each image.\n",
    "\n",
    "`tf.nn.top_k` will return the values and indices (class ids) of the top k predictions. So if k=3, for each sign, it'll return the 3 largest probabilities (out of a possible 43) and the correspoding class ids.\n",
    "\n",
    "Take this numpy array as an example. The values in the array represent predictions. The array contains softmax probabilities for five candidate images with six possible classes. `tk.nn.top_k` is used to choose the three classes with the highest probability:\n",
    "\n",
    "```\n",
    "# (5, 6) array\n",
    "a = np.array([[ 0.24879643,  0.07032244,  0.12641572,  0.34763842,  0.07893497,\n",
    "         0.12789202],\n",
    "       [ 0.28086119,  0.27569815,  0.08594638,  0.0178669 ,  0.18063401,\n",
    "         0.15899337],\n",
    "       [ 0.26076848,  0.23664738,  0.08020603,  0.07001922,  0.1134371 ,\n",
    "         0.23892179],\n",
    "       [ 0.11943333,  0.29198961,  0.02605103,  0.26234032,  0.1351348 ,\n",
    "         0.16505091],\n",
    "       [ 0.09561176,  0.34396535,  0.0643941 ,  0.16240774,  0.24206137,\n",
    "         0.09155967]])\n",
    "```\n",
    "\n",
    "Running it through `sess.run(tf.nn.top_k(tf.constant(a), k=3))` produces:\n",
    "\n",
    "```\n",
    "TopKV2(values=array([[ 0.34763842,  0.24879643,  0.12789202],\n",
    "       [ 0.28086119,  0.27569815,  0.18063401],\n",
    "       [ 0.26076848,  0.23892179,  0.23664738],\n",
    "       [ 0.29198961,  0.26234032,  0.16505091],\n",
    "       [ 0.34396535,  0.24206137,  0.16240774]]), indices=array([[3, 0, 5],\n",
    "       [0, 1, 4],\n",
    "       [0, 5, 1],\n",
    "       [1, 3, 5],\n",
    "       [1, 4, 3]], dtype=int32))\n",
    "```\n",
    "\n",
    "Looking just at the first row we get `[ 0.34763842,  0.24879643,  0.12789202]`, you can confirm these are the 3 largest probabilities in `a`. You'll also notice `[3, 0, 5]` are the corresponding indices."
   ]
  },
  {
   "cell_type": "code",
   "execution_count": null,
   "metadata": {
    "collapsed": true
   },
   "outputs": [],
   "source": [
    "def get_top_k_predictions(params, X, k = 5):\n",
    "    \"\"\"\n",
    "    Evaluates `X` on a model defined by `params` and returns top 5 predictions.\n",
    "\n",
    "    Parameters\n",
    "    ----------\n",
    "    params    : Parameters\n",
    "                Structure (`namedtuple`) containing model parameters.\n",
    "    X         : \n",
    "                Testing dataset. \n",
    "    k         : \n",
    "                Number of top predictions we are interested in.\n",
    "                \n",
    "    Returns\n",
    "    -------\n",
    "    An array of top k softmax predictions for each example.\n",
    "    \"\"\"\n",
    "    \n",
    "    # Initialisation routines: generate variable scope, create logger, note start time.\n",
    "    paths = Paths(params)\n",
    "    \n",
    "    # Build the graph\n",
    "    graph = tf.Graph()\n",
    "    with graph.as_default():\n",
    "        # Input data. For the training data, we use a placeholder that will be fed at run time with a training minibatch.\n",
    "        tf_x = tf.placeholder(tf.float32, shape = (None, params.image_size[0], params.image_size[1], 1))\n",
    "        is_training = tf.constant(False)\n",
    "        with tf.variable_scope(paths.var_scope):\n",
    "            predictions = tf.nn.softmax(model_pass(tf_x, params, is_training))\n",
    "            top_k_predictions = tf.nn.top_k(predictions, k)\n",
    "\n",
    "    with tf.Session(graph = graph) as session:\n",
    "        session.run(tf.global_variables_initializer())\n",
    "        tf.train.Saver().restore(session, paths.model_path)\n",
    "        [p] = session.run([top_k_predictions], feed_dict = {\n",
    "                tf_x : X\n",
    "            }\n",
    "        )\n",
    "        return np.array(p)"
   ]
  },
  {
   "cell_type": "code",
   "execution_count": null,
   "metadata": {
    "collapsed": true
   },
   "outputs": [],
   "source": [
    "### Print out the top five softmax probabilities for the predictions on the German traffic sign images found on the web. \n",
    "### Feel free to use as many code cells as needed.\n",
    "def plot_image_statistics(predictions, index):\n",
    "    \"\"\"\n",
    "    Plots prediction statistics for a single example.\n",
    "\n",
    "    Parameters\n",
    "    ----------\n",
    "    predictions   : \n",
    "                    Array of predictions.\n",
    "    index         : \n",
    "                    Index of the example we need to plot statistics for\n",
    "    \"\"\"\n",
    "    # Prepare original and preprocessed images\n",
    "    original = io.imread(os.getcwd() + '/traffic-signs-data/custom/' + \"example_{0:0>5}\".format(index + 1) + '.png')\n",
    "    preprocessed = X_custom[index].reshape(32, 32)\n",
    "        \n",
    "    # Prepare the grid\n",
    "    pyplot.figure(figsize = (6, 2))\n",
    "    gridspec.GridSpec(2, 2)\n",
    "    \n",
    "    # Plot original image\n",
    "    pyplot.subplot2grid((2, 2), (0, 0), colspan=1, rowspan=1)\n",
    "    pyplot.imshow(original)\n",
    "    pyplot.axis('off')\n",
    "\n",
    "    # Plot preprocessed image\n",
    "    pyplot.subplot2grid((2, 2), (1, 0), colspan=1, rowspan=1)\n",
    "    pyplot.imshow(preprocessed, cmap='gray')\n",
    "    pyplot.axis('off')\n",
    "\n",
    "    # Plot predictions\n",
    "    pyplot.subplot2grid((2, 2), (0, 1), colspan=1, rowspan=2)\n",
    "    pyplot.barh(np.arange(5)+.5, predictions[0][index], align='center')\n",
    "    pyplot.yticks(np.arange(5)+.5, signnames[predictions[1][index].astype(int)])\n",
    "    pyplot.tick_params(axis='both', which='both', labelleft='off', labelright='on', labeltop='off', labelbottom='off')\n",
    "    \n",
    "    pyplot.show()"
   ]
  },
  {
   "cell_type": "code",
   "execution_count": null,
   "metadata": {
    "collapsed": true
   },
   "outputs": [],
   "source": [
    "X_custom, _ = preprocess_dataset(X_custom)\n",
    "predictions = get_top_k_predictions(parameters, X_custom)"
   ]
  },
  {
   "cell_type": "markdown",
   "metadata": {},
   "source": [
    "---\n",
    "\n",
    "## Step 4: Visualize the Neural Network's State with Test Images\n",
    "\n",
    " This Section is not required to complete but acts as an additional excersise for understaning the output of a neural network's weights. While neural networks can be a great learning device they are often referred to as a black box. We can understand what the weights of a neural network look like better by plotting their feature maps. After successfully training your neural network you can see what it's feature maps look like by plotting the output of the network's weight layers in response to a test stimuli image. From these plotted feature maps, it's possible to see what characteristics of an image the network finds interesting. For a sign, maybe the inner network feature maps react with high activation to the sign's boundary outline or to the contrast in the sign's painted symbol.\n",
    "\n",
    " Provided for you below is the function code that allows you to get the visualization output of any tensorflow weight layer you want. The inputs to the function should be a stimuli image, one used during training or a new one you provided, and then the tensorflow variable name that represents the layer's state during the training process, for instance if you wanted to see what the [LeNet lab's](https://classroom.udacity.com/nanodegrees/nd013/parts/fbf77062-5703-404e-b60c-95b78b2f3f9e/modules/6df7ae49-c61c-4bb2-a23e-6527e69209ec/lessons/601ae704-1035-4287-8b11-e2c2716217ad/concepts/d4aca031-508f-4e0b-b493-e7b706120f81) feature maps looked like for it's second convolutional layer you could enter conv2 as the tf_activation variable.\n",
    "\n",
    "For an example of what feature map outputs look like, check out NVIDIA's results in their paper [End-to-End Deep Learning for Self-Driving Cars](https://devblogs.nvidia.com/parallelforall/deep-learning-self-driving-cars/) in the section Visualization of internal CNN State. NVIDIA was able to show that their network's inner weights had high activations to road boundary lines by comparing feature maps from an image with a clear path to one without. Try experimenting with a similar test to show that your trained network's weights are looking for interesting features, whether it's looking at differences in feature maps from images with or without a sign, or even what feature maps look like in a trained network vs a completely untrained one on the same sign image.\n",
    "\n",
    "<figure>\n",
    " <img src=\"visualize_cnn.png\" width=\"380\" alt=\"Combined Image\" />\n",
    " <figcaption>\n",
    " <p></p> \n",
    " <p style=\"text-align: center;\"> Your output should look something like this (above)</p> \n",
    " </figcaption>\n",
    "</figure>\n",
    " <p></p> \n"
   ]
  },
  {
   "cell_type": "code",
   "execution_count": null,
   "metadata": {
    "collapsed": true
   },
   "outputs": [],
   "source": [
    "### Visualize your network's feature maps here.\n",
    "### Feel free to use as many code cells as needed.\n",
    "\n",
    "# image_input: the test image being fed into the network to produce the feature maps\n",
    "# tf_activation: should be a tf variable name used during your training procedure that represents the calculated state of a specific weight layer\n",
    "# activation_min/max: can be used to view the activation contrast in more detail, by default matplot sets min and max to the actual min and max values of the output\n",
    "# plt_num: used to plot out multiple different weight feature map sets on the same block, just extend the plt number for each new feature map entry\n",
    "\n",
    "def outputFeatureMap(image_input, tf_activation, activation_min=-1, activation_max=-1 ,plt_num=1):\n",
    "    # Here make sure to preprocess your image_input in a way your network expects\n",
    "    # with size, normalization, ect if needed\n",
    "    # image_input =\n",
    "    # Note: x should be the same name as your network's tensorflow data placeholder variable\n",
    "    # If you get an error tf_activation is not defined it maybe having trouble accessing the variable from inside a function\n",
    "    activation = tf_activation.eval(session=sess,feed_dict={x : image_input})\n",
    "    featuremaps = activation.shape[3]\n",
    "    plt.figure(plt_num, figsize=(15,15))\n",
    "    for featuremap in range(featuremaps):\n",
    "        plt.subplot(6,8, featuremap+1) # sets the number of feature maps to show on each row and column\n",
    "        plt.title('FeatureMap ' + str(featuremap)) # displays the feature map number\n",
    "        if activation_min != -1 & activation_max != -1:\n",
    "            plt.imshow(activation[0,:,:, featuremap], interpolation=\"nearest\", vmin =activation_min, vmax=activation_max, cmap=\"gray\")\n",
    "        elif activation_max != -1:\n",
    "            plt.imshow(activation[0,:,:, featuremap], interpolation=\"nearest\", vmax=activation_max, cmap=\"gray\")\n",
    "        elif activation_min !=-1:\n",
    "            plt.imshow(activation[0,:,:, featuremap], interpolation=\"nearest\", vmin=activation_min, cmap=\"gray\")\n",
    "        else:\n",
    "            plt.imshow(activation[0,:,:, featuremap], interpolation=\"nearest\", cmap=\"gray\")"
   ]
  },
  {
   "cell_type": "markdown",
   "metadata": {},
   "source": [
    "### Question 9\n",
    "\n",
    "Discuss how you used the visual output of your trained network's feature maps to show that it had learned to look for interesting characteristics in traffic sign images\n"
   ]
  },
  {
   "cell_type": "markdown",
   "metadata": {},
   "source": [
    "**Answer:**"
   ]
  },
  {
   "cell_type": "markdown",
   "metadata": {},
   "source": [
    "> **Note**: Once you have completed all of the code implementations and successfully answered each question above, you may finalize your work by exporting the iPython Notebook as an HTML document. You can do this by using the menu above and navigating to  \\n\",\n",
    "    \"**File -> Download as -> HTML (.html)**. Include the finished document along with this notebook as your submission."
   ]
  },
  {
   "cell_type": "markdown",
   "metadata": {},
   "source": [
    "### Project Writeup\n",
    "\n",
    "Once you have completed the code implementation, document your results in a project writeup using this [template](https://github.com/udacity/CarND-Traffic-Sign-Classifier-Project/blob/master/writeup_template.md) as a guide. The writeup can be in a markdown or pdf file. "
   ]
  }
 ],
 "metadata": {
  "anaconda-cloud": {},
  "kernelspec": {
   "display_name": "Python 3",
   "language": "python",
   "name": "python3"
  },
  "language_info": {
   "codemirror_mode": {
    "name": "ipython",
    "version": 3
   },
   "file_extension": ".py",
   "mimetype": "text/x-python",
   "name": "python",
   "nbconvert_exporter": "python",
   "pygments_lexer": "ipython3",
   "version": "3.5.2"
  },
  "widgets": {
   "state": {},
   "version": "1.1.2"
  }
 },
 "nbformat": 4,
 "nbformat_minor": 1
}
